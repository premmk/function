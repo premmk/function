{
  "nbformat": 4,
  "nbformat_minor": 0,
  "metadata": {
    "colab": {
      "provenance": []
    },
    "kernelspec": {
      "name": "python3",
      "display_name": "Python 3"
    },
    "language_info": {
      "name": "python"
    }
  },
  "cells": [
    {
      "cell_type": "code",
      "execution_count": null,
      "metadata": {
        "id": "A56UrV4B2HMN"
      },
      "outputs": [],
      "source": []
    },
    {
      "cell_type": "markdown",
      "source": [
        "1. What is the difference between a function and a method in Python?\n",
        "  - Function:\n",
        "A function is a standalone piece of code that can be called from anywhere in your program.\n",
        "It is not associated with any particular object or class.\n",
        "\n",
        "     Method:\n",
        "A method is a function that is defined within a class.\n",
        "It operates on an object (instance) of that class.\n",
        "The first parameter of a method is typically self, which refers to the object the method is being called on.\n",
        "\n",
        "2. Explain the concept of function arguments and parameters in Python.\n",
        "\n",
        "     -A parameter is the variable listed inside the parentheses in the function definition. An argument is the value that are sent to the function when it is called.\n",
        "\n",
        "3. What are the different ways to define and call a function in Python?\n",
        "  \n",
        "  -In Python, you can find a function using the following methods:\n",
        "\n",
        "     1 direct Function Call. 2 using the def keyword. 3 lambda functions.\n",
        "\n",
        "4. What is the purpose of the `return` statement in a Python function?\n",
        "\n",
        "   -In Python, the return statement serves two primary purposes within a function:\n",
        "   1. Terminating the Function: When a return statement is encountered within a function, the function's execution immediately stops, and control returns to the code that called the function.\n",
        "   2. Sending Data Back to the Caller: The return statement allows you to pass data back to the code that called the function. This data can be any Python object, such as a number, string, list, or even another functions .\n",
        "\n",
        "5. What are iterators in Python and how do they differ from iterables?\n",
        "\n",
        "   -In Python, an \"iterator\" is an object that can be used to iterate through a sequence of values one at a time, while an \"iterable\" is any object that can be looped over, meaning it can provide an iterator when you use the iter() function on it; essentially, every iterator is an iterable, but not every iterable is an iterator because an iterator keeps track of its current position during iteration, whereas an iterable just represents a collection of data that can be iterated over.\n",
        "Key points about iterators and iterables:\n",
        "Iterables:\n",
        "Examples: Lists, tuples, strings, dictionaries, sets.\n",
        "Can be directly used in a for loop.\n",
        "When you call iter() on an iterable, it returns an iterator object.\n",
        "Iterators:\n",
        "Implement the \"iterator protocol\" which includes the __iter__() and __next__() methods.\n",
        "The __next__() method returns the next element in the sequence and updates the internal state of the iterator.\n",
        "When there are no more elements, __next__() raises a StopIteration exception.\n",
        "\n",
        "6. Explain the concept of generators in Python and how they are defined\n",
        "\n",
        "   -In Python, a generator is a special type of function that returns an iterator object, which can be iterated over (e.g., using a for loop) to produce a sequence of values. Unlike regular functions that return a single value and then terminate, generators can be paused and resumed, allowing them to generate values on the fly as needed.\n",
        "\n",
        "\n",
        " 7. What are the advantages of using generators over regular functions?\n",
        "\n",
        "   -The main advantage of using generators over regular functions is their memory efficiency, as generators produce values one at a time, \"on-demand\", instead of calculating and storing the entire result set upfront, making them ideal for handling large datasets without consuming excessive memory; this is also known as lazy evaluation.\n",
        "\n",
        " 8. What is a lambda function in Python and when is it typically used?\n",
        "\n",
        "   -A Lambda function in Python is a small, anonymous function defined using the \"lambda\" keyword, essentially a one-line function that takes arguments, performs a single calculation, and returns the result; it's typically used when you need a quick, simple function for a short operation without the need to define a separate named function, often within higher-order functions like map, filter, and sorted where you need to pass a custom logic as an argument\n",
        "\n",
        "9. Explain the purpose and usage of the `map()` function in Python\n",
        "\n",
        "   -The map() function in Python applies a given function to each item of an iterable (like a list, tuple, etc.) and returns an iterator containing the results.\n",
        "\n",
        "   Purpose:\n",
        "To transform the elements of an iterable in a concise and efficient manner.\n",
        "To avoid writing explicit loops when applying a function to each element of an iterable.\n",
        "\n",
        "   Uses:\n",
        "Applying a function to each element of a list:\n",
        "\n",
        "10. What is the difference between `map()`, `reduce()`, and `filter()` functions in Python?\n",
        "  -In Python, map, reduce, and filter are built-in functions that allow you to perform common operations on iterables (like lists, tuples, etc.) in a functional programming style. Here's a breakdown of their differences:\n",
        "\n",
        "  map()\n",
        "Purpose: Applies a given function to each item in an iterable and returns a new iterable containing the transformed values.\n",
        "Example:\n",
        "Python\n",
        "\n",
        "\n",
        "\n",
        "  filter()\n",
        "Purpose: Filters an iterable by keeping only the elements that satisfy a given condition (specified by a function that returns True or False).\n",
        "Example:\n",
        "Python\n",
        "\n",
        "\n",
        "\n",
        "reduce()\n",
        "Purpose: Combines elements of an iterable into a single value by repeatedly applying a given function (which takes two arguments) to the elements.\n",
        "Important: In Python 3, reduce() is moved to the functools module, so you need to import it first.\n",
        "\n",
        "\n"
      ],
      "metadata": {
        "id": "Cu8070cRSC1X"
      }
    },
    {
      "cell_type": "code",
      "source": [],
      "metadata": {
        "id": "mub9rysIiUXU"
      },
      "execution_count": null,
      "outputs": []
    },
    {
      "cell_type": "code",
      "source": [
        "1. Write a Python function that takes a list of numbers as input and returns the sum of all even numbers in\n",
        "the list.\n",
        "'''\n",
        "\n",
        "\n",
        "def sum_even_numbers(numbers):\n",
        "    sum_even = 0\n",
        "    for num in numbers:\n",
        "        if num % 2 == 0:\n",
        "            sum_even += num\n",
        "    return sum_even\n",
        "\n",
        "    '''"
      ],
      "metadata": {
        "colab": {
          "base_uri": "https://localhost:8080/",
          "height": 106
        },
        "id": "rQnr5fK_fv4v",
        "outputId": "010e635c-2f32-4f14-bcf8-198d70db3e7b"
      },
      "execution_count": null,
      "outputs": [
        {
          "output_type": "error",
          "ename": "SyntaxError",
          "evalue": "invalid syntax (<ipython-input-10-c5942a444680>, line 1)",
          "traceback": [
            "\u001b[0;36m  File \u001b[0;32m\"<ipython-input-10-c5942a444680>\"\u001b[0;36m, line \u001b[0;32m1\u001b[0m\n\u001b[0;31m    1. Write a Python function that takes a list of numbers as input and returns the sum of all even numbers in\u001b[0m\n\u001b[0m       ^\u001b[0m\n\u001b[0;31mSyntaxError\u001b[0m\u001b[0;31m:\u001b[0m invalid syntax\n"
          ]
        }
      ]
    },
    {
      "cell_type": "markdown",
      "source": [],
      "metadata": {
        "id": "inCjDWoYdIcb"
      }
    },
    {
      "cell_type": "code",
      "source": [
        "2. Create a Python function that accepts a string and returns the reverse of that string.\n",
        "\n",
        "'''\n",
        "\n",
        "def reverse_string(input_string):\n",
        "    reversed_string = \"\"\n",
        "    for char in input_string:\n",
        "        reversed_string = char + reversed_string\n",
        "    return reversed_string\n",
        "\n",
        "'''\n"
      ],
      "metadata": {
        "id": "6rN7cJAddFIC",
        "colab": {
          "base_uri": "https://localhost:8080/",
          "height": 106
        },
        "outputId": "7436a502-326f-4358-fa89-e561ac6a5a9b"
      },
      "execution_count": null,
      "outputs": [
        {
          "output_type": "error",
          "ename": "SyntaxError",
          "evalue": "invalid syntax (<ipython-input-7-ccd97000b261>, line 1)",
          "traceback": [
            "\u001b[0;36m  File \u001b[0;32m\"<ipython-input-7-ccd97000b261>\"\u001b[0;36m, line \u001b[0;32m1\u001b[0m\n\u001b[0;31m    2. Create a Python function that accepts a string and returns the reverse of that string.\u001b[0m\n\u001b[0m       ^\u001b[0m\n\u001b[0;31mSyntaxError\u001b[0m\u001b[0;31m:\u001b[0m invalid syntax\n"
          ]
        }
      ]
    },
    {
      "cell_type": "markdown",
      "source": [],
      "metadata": {
        "id": "SMEooaDyc_bR"
      }
    },
    {
      "cell_type": "code",
      "source": [
        "'''\n",
        "\n",
        "def square_numbers(numbers):\n",
        "    squared_numbers = []\n",
        "    for num in numbers:\n",
        "        squared_numbers.append(num ** 2)\n",
        "    return squared_numbers\n",
        "\n",
        "\n",
        "'''"
      ],
      "metadata": {
        "colab": {
          "base_uri": "https://localhost:8080/",
          "height": 36
        },
        "id": "_xOV1M0k6f33",
        "outputId": "35a8635f-cf9c-4ba5-c7a7-93e57f4d6d87"
      },
      "execution_count": null,
      "outputs": [
        {
          "output_type": "execute_result",
          "data": {
            "text/plain": [
              "'\\n\\ndef square_numbers(numbers):\\n    squared_numbers = []\\n    for num in numbers:\\n        squared_numbers.append(num ** 2)\\n    return squared_numbers\\n\\n\\n'"
            ],
            "application/vnd.google.colaboratory.intrinsic+json": {
              "type": "string"
            }
          },
          "metadata": {},
          "execution_count": 5
        }
      ]
    },
    {
      "cell_type": "markdown",
      "source": [],
      "metadata": {
        "id": "UtTOCrPLc0-S"
      }
    },
    {
      "cell_type": "code",
      "source": [
        "'''\n",
        "\n",
        "# Check numbers from 1 to 200\n",
        "def is_prime(num):\n",
        "    if num <= 1:\n",
        "        return False\n",
        "    for i in range(2, int(num**0.5) + 1):\n",
        "        if num % i == 0:\n",
        "            return False\n",
        "    return True\n",
        "\n",
        "for num in range(1, 201):\n",
        "    if is_prime(num):\n",
        "        print(f\"{num} is a prime number\")\n",
        "\n",
        "\n",
        "# Check numbers from 1 to 200\n",
        "for num in range(1, 201):\n",
        "    if is_prime(num):\n",
        "        print(f\"{num} is a prime number\")\n",
        "\n",
        "        '''\n"
      ],
      "metadata": {
        "colab": {
          "base_uri": "https://localhost:8080/",
          "height": 70
        },
        "id": "lUC0bdH48LkH",
        "outputId": "e6502f22-838a-441b-ed2a-b2fb14ed9acb"
      },
      "execution_count": null,
      "outputs": [
        {
          "output_type": "execute_result",
          "data": {
            "text/plain": [
              "'\\n\\n# Check numbers from 1 to 200\\ndef is_prime(num):\\n    if num <= 1:\\n        return False\\n    for i in range(2, int(num**0.5) + 1):\\n        if num % i == 0:\\n            return False\\n    return True\\n\\nfor num in range(1, 201):\\n    if is_prime(num):\\n        print(f\"{num} is a prime number\")\\n\\n\\n# Check numbers from 1 to 200\\nfor num in range(1, 201):\\n    if is_prime(num):\\n        print(f\"{num} is a prime number\")\\n\\n        '"
            ],
            "application/vnd.google.colaboratory.intrinsic+json": {
              "type": "string"
            }
          },
          "metadata": {},
          "execution_count": 11
        }
      ]
    },
    {
      "cell_type": "markdown",
      "source": [],
      "metadata": {
        "id": "XlBwwpPR6Pzh"
      }
    },
    {
      "cell_type": "code",
      "source": [
        "\n",
        "'''\n",
        "class FibonacciIterator:\n",
        "    def __init__(self, limit):\n",
        "        self.limit = limit\n",
        "        self.a = 0\n",
        "        self.b = 1\n",
        "        self.count = 0\n",
        "\n",
        "    def __iter__(self):\n",
        "        return self\n",
        "\n",
        "    def __next__(self):\n",
        "        if self.count < self.limit:\n",
        "            result = self.a\n",
        "            self.a, self.b = self.b, self.a + self.b\n",
        "            self.count += 1\n",
        "            return result\n",
        "        else:\n",
        "            raise StopIteration\n",
        "\n",
        "            '''\n"
      ],
      "metadata": {
        "colab": {
          "base_uri": "https://localhost:8080/",
          "height": 70
        },
        "id": "3QCG1Ih09Xw2",
        "outputId": "9841cd44-0481-40c6-9405-9337f38f28a4"
      },
      "execution_count": null,
      "outputs": [
        {
          "output_type": "execute_result",
          "data": {
            "text/plain": [
              "'\\nclass FibonacciIterator:\\n    def __init__(self, limit):\\n        self.limit = limit\\n        self.a = 0\\n        self.b = 1\\n        self.count = 0\\n\\n    def __iter__(self):\\n        return self\\n\\n    def __next__(self):\\n        if self.count < self.limit:\\n            result = self.a\\n            self.a, self.b = self.b, self.a + self.b\\n            self.count += 1\\n            return result\\n        else:\\n            raise StopIteration\\n\\n            '"
            ],
            "application/vnd.google.colaboratory.intrinsic+json": {
              "type": "string"
            }
          },
          "metadata": {},
          "execution_count": 13
        }
      ]
    },
    {
      "cell_type": "markdown",
      "source": [],
      "metadata": {
        "id": "zvxKcP1M2Q7f"
      }
    },
    {
      "cell_type": "code",
      "source": [
        "'''\n",
        "def power_of_two_generator(exponent):\n",
        "    \"\"\"\n",
        "    Generates powers of 2 up to the given exponent.\n",
        "\n",
        "    Args:\n",
        "        exponent: The maximum exponent to consider.\n",
        "\n",
        "    Yields:\n",
        "        Successive powers of 2.\n",
        "    \"\"\"\n",
        "    for i in range(exponent + 1):\n",
        "        yield 2 ** i\n",
        "'''\n"
      ],
      "metadata": {
        "colab": {
          "base_uri": "https://localhost:8080/",
          "height": 53
        },
        "id": "jV27vlaS-eaH",
        "outputId": "fff8f053-9a5f-45e0-df9f-5186e4dd0abe"
      },
      "execution_count": null,
      "outputs": [
        {
          "output_type": "execute_result",
          "data": {
            "text/plain": [
              "'\\ndef power_of_two_generator(exponent):\\n    \"\"\"\\n    Generates powers of 2 up to the given exponent.\\n\\n    Args:\\n        exponent: The maximum exponent to consider.\\n\\n    Yields:\\n        Successive powers of 2.\\n    \"\"\"\\n    for i in range(exponent + 1):\\n        yield 2 ** i\\n'"
            ],
            "application/vnd.google.colaboratory.intrinsic+json": {
              "type": "string"
            }
          },
          "metadata": {},
          "execution_count": 15
        }
      ]
    },
    {
      "cell_type": "code",
      "source": [
        "'''\n",
        "def read_file_lines(file_path):\n",
        "    \"\"\"\n",
        "    Reads a file line by line and yields each line as a string.\n",
        "\n",
        "    Args:\n",
        "        file_path (str): The path to the file.\n",
        "\n",
        "    Yields:\n",
        "        str: Each line of the file.\n",
        "    \"\"\"\n",
        "    try:\n",
        "        with open(file_path, 'r') as file:\n",
        "            for line in file:\n",
        "                yield line.rstrip('\\n')\n",
        "    except FileNotFoundError:\n",
        "        yield f\"File not found: {file_path}\"\n",
        "\n",
        "        '''\n",
        "    \"\"\"\n"
      ],
      "metadata": {
        "colab": {
          "base_uri": "https://localhost:8080/",
          "height": 106
        },
        "id": "qWXM33GE_yl_",
        "outputId": "74fd1cac-30d0-4a62-f1bb-90ef30916f90"
      },
      "execution_count": null,
      "outputs": [
        {
          "output_type": "error",
          "ename": "IndentationError",
          "evalue": "unexpected indent (<ipython-input-19-85a2df885d46>, line 20)",
          "traceback": [
            "\u001b[0;36m  File \u001b[0;32m\"<ipython-input-19-85a2df885d46>\"\u001b[0;36m, line \u001b[0;32m20\u001b[0m\n\u001b[0;31m    \"\"\"\u001b[0m\n\u001b[0m    ^\u001b[0m\n\u001b[0;31mIndentationError\u001b[0m\u001b[0;31m:\u001b[0m unexpected indent\n"
          ]
        }
      ]
    },
    {
      "cell_type": "code",
      "source": [
        "'''\n",
        "8. Use a lambda function in Python to sort a list of tuples based on the second element of each tuple.\n",
        "\n",
        "\n",
        "\n",
        "\n",
        "\n",
        "'''\n",
        "my_list = [(\"apple\", 5), (\"banana\", 2), (\"orange\", 8), (\"grape\", 3)]\n",
        "\n",
        "shortlisted = sorted(my_list, key=lambda x: x[1])[:2]  # Select top 2 based on second element\n",
        "\n",
        "print(shortlisted)  # Output: [(\"banana\", 2), (\"grape\", 3)]\n",
        "'''\n",
        "my_list = [(\"apple\", 5), (\"banana\", 2), (\"orange\", 8), (\"grape\", 3)]\n",
        "\n",
        "\n",
        "\n",
        "shortlisted = sorted(my_list, key=lambda x: x[1])[:2]  # Select top 2 based on second element\n",
        "\n",
        "\n",
        "\n",
        "print(shortlisted)  # Output: [(\"banana\", 2), (\"grape\", 3)]\n",
        "\n",
        "\n",
        "'''"
      ],
      "metadata": {
        "colab": {
          "base_uri": "https://localhost:8080/",
          "height": 70
        },
        "id": "f7DbZUE-BXyU",
        "outputId": "13c7627d-dfec-4f3d-8729-5b8793aa32ef"
      },
      "execution_count": null,
      "outputs": [
        {
          "output_type": "stream",
          "name": "stdout",
          "text": [
            "[('banana', 2), ('grape', 3)]\n"
          ]
        },
        {
          "output_type": "execute_result",
          "data": {
            "text/plain": [
              "'\\nmy_list = [(\"apple\", 5), (\"banana\", 2), (\"orange\", 8), (\"grape\", 3)]\\n\\n\\n\\nshortlisted = sorted(my_list, key=lambda x: x[1])[:2]  # Select top 2 based on second element\\n\\n\\n\\nprint(shortlisted)  # Output: [(\"banana\", 2), (\"grape\", 3)] \\n\\n\\n'"
            ],
            "application/vnd.google.colaboratory.intrinsic+json": {
              "type": "string"
            }
          },
          "metadata": {},
          "execution_count": 21
        }
      ]
    },
    {
      "cell_type": "code",
      "source": [
        "'''\n",
        "def celsius_to_fahrenheit(celsius):\n",
        "    \"\"\"\n",
        "    Converts a temperature from Celsius to Fahrenheit.\n",
        "    \"\"\"\n",
        "    return (celsius * 9/5) + 32\n",
        "'''"
      ],
      "metadata": {
        "colab": {
          "base_uri": "https://localhost:8080/",
          "height": 36
        },
        "id": "n3WkeIEdCBUj",
        "outputId": "3d35a98f-794f-494d-a7eb-ff437293098f"
      },
      "execution_count": null,
      "outputs": [
        {
          "output_type": "execute_result",
          "data": {
            "text/plain": [
              "'\\ndef celsius_to_fahrenheit(celsius):\\n    \"\"\"\\n    Converts a temperature from Celsius to Fahrenheit.\\n    \"\"\"\\n    return (celsius * 9/5) + 32\\n'"
            ],
            "application/vnd.google.colaboratory.intrinsic+json": {
              "type": "string"
            }
          },
          "metadata": {},
          "execution_count": 24
        }
      ]
    },
    {
      "cell_type": "code",
      "source": [
        "0. Create a Python program that uses `filter()` to remove all the vowels from a given string\n",
        "'''\n",
        "\n"
      ],
      "metadata": {
        "id": "RH2wUmyZDQvj"
      },
      "execution_count": null,
      "outputs": []
    }
  ]
}